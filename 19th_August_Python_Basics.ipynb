{
 "cells": [
  {
   "cell_type": "code",
   "execution_count": 1,
   "id": "73b8f406-7a9f-48cc-b606-1690defb6ab8",
   "metadata": {},
   "outputs": [],
   "source": [
    "# Answer 1 Swap values of variables\n",
    "\n",
    "x=10\n",
    "y=20"
   ]
  },
  {
   "cell_type": "code",
   "execution_count": 2,
   "id": "4ca641ab-307d-4e79-bffa-89330146a02d",
   "metadata": {},
   "outputs": [],
   "source": [
    "x,y = y,x"
   ]
  },
  {
   "cell_type": "code",
   "execution_count": 3,
   "id": "25d5e36e-cfaa-44a3-a31c-3e66bf16d486",
   "metadata": {},
   "outputs": [
    {
     "data": {
      "text/plain": [
       "20"
      ]
     },
     "execution_count": 3,
     "metadata": {},
     "output_type": "execute_result"
    }
   ],
   "source": [
    "x"
   ]
  },
  {
   "cell_type": "code",
   "execution_count": 4,
   "id": "af92632d-5e1e-43d1-a895-9e21803cb3e9",
   "metadata": {},
   "outputs": [
    {
     "data": {
      "text/plain": [
       "10"
      ]
     },
     "execution_count": 4,
     "metadata": {},
     "output_type": "execute_result"
    }
   ],
   "source": [
    "y"
   ]
  },
  {
   "cell_type": "code",
   "execution_count": 5,
   "id": "cb997fba-594e-48d7-a250-df1f06fbf1de",
   "metadata": {},
   "outputs": [
    {
     "name": "stdin",
     "output_type": "stream",
     "text": [
      "Enter Length: 20\n",
      "Enter Width: 20\n"
     ]
    },
    {
     "name": "stdout",
     "output_type": "stream",
     "text": [
      "Area is  400.0\n"
     ]
    }
   ],
   "source": [
    "# Answer 2 Program for area of Rectangle\n",
    "\n",
    "l=float(input('Enter Length:'))\n",
    "w=float(input('Enter Width:'))\n",
    "area=l*w\n",
    "print('Area is ',area)\n"
   ]
  },
  {
   "cell_type": "code",
   "execution_count": 6,
   "id": "a8037086-4534-419b-b39d-775f93239abf",
   "metadata": {},
   "outputs": [
    {
     "name": "stdin",
     "output_type": "stream",
     "text": [
      "Celsius= 100\n"
     ]
    },
    {
     "name": "stdout",
     "output_type": "stream",
     "text": [
      "Fahrenheit= 212.0\n"
     ]
    }
   ],
   "source": [
    "# Answer 3 Temnperature from Celsius to fahrenheit\n",
    "\n",
    "t=float(input('Celsius='))\n",
    "f=(t*(9/5)+32)\n",
    "print('Fahrenheit=',f)\n"
   ]
  },
  {
   "cell_type": "code",
   "execution_count": 7,
   "id": "224251c1-67f5-4e67-a822-a4b50afc09c2",
   "metadata": {},
   "outputs": [],
   "source": [
    "# String Based Questions"
   ]
  },
  {
   "cell_type": "code",
   "execution_count": 9,
   "id": "6e32f696-5fc8-4843-93f7-aacb3f60c2da",
   "metadata": {},
   "outputs": [],
   "source": [
    "# Answer 1\n",
    "\n",
    "a=\"sankalp\""
   ]
  },
  {
   "cell_type": "code",
   "execution_count": 10,
   "id": "9fbfddb5-bf3d-4ff4-842a-9428326e4e4d",
   "metadata": {},
   "outputs": [
    {
     "data": {
      "text/plain": [
       "'sankalp'"
      ]
     },
     "execution_count": 10,
     "metadata": {},
     "output_type": "execute_result"
    }
   ],
   "source": [
    "a"
   ]
  },
  {
   "cell_type": "code",
   "execution_count": 35,
   "id": "cdc50c4a-9697-44bd-bafe-9e5bbbeec1f7",
   "metadata": {},
   "outputs": [
    {
     "name": "stdin",
     "output_type": "stream",
     "text": [
      "enter the sentense : My name is SANKALP SINHA\n"
     ]
    },
    {
     "name": "stdout",
     "output_type": "stream",
     "text": [
      "number of vowels : 7\n"
     ]
    }
   ],
   "source": [
    "# Answer 2\n",
    "\n",
    "a = input(\"enter the sentense :\")\n",
    "s = a.lower()\n",
    "count = 0\n",
    "vowels=['a','e','i','o','u']\n",
    "for char in s:\n",
    "    if char in vowels:\n",
    "        count=count+1\n",
    "        \n",
    "print(\"number of vowels :\",count)"
   ]
  },
  {
   "cell_type": "code",
   "execution_count": 12,
   "id": "d10c8891-27c9-4327-aac6-5a8d17860c76",
   "metadata": {},
   "outputs": [
    {
     "data": {
      "text/plain": [
       "'sankalp'"
      ]
     },
     "execution_count": 12,
     "metadata": {},
     "output_type": "execute_result"
    }
   ],
   "source": [
    "# Answer 3\n",
    "\n",
    "a"
   ]
  },
  {
   "cell_type": "code",
   "execution_count": 13,
   "id": "139d3e08-1935-423d-9efa-e2983332d7ac",
   "metadata": {},
   "outputs": [
    {
     "name": "stdout",
     "output_type": "stream",
     "text": [
      "plaknas\n"
     ]
    }
   ],
   "source": [
    "print(a[::-1])"
   ]
  },
  {
   "cell_type": "code",
   "execution_count": 3,
   "id": "472bcf87-5304-4083-98b5-a33966129d01",
   "metadata": {},
   "outputs": [
    {
     "name": "stdin",
     "output_type": "stream",
     "text": [
      "enter String :  malayam\n"
     ]
    },
    {
     "name": "stdout",
     "output_type": "stream",
     "text": [
      "malayam - not a palindrome\n"
     ]
    }
   ],
   "source": [
    "# Answer 4\n",
    "\n",
    "a = input(\"enter String : \")\n",
    "if a==a[::-1]:\n",
    "    print(a,\"- is a Palindrome\")\n",
    "else:\n",
    "    print(a,\"- not a palindrome\")"
   ]
  },
  {
   "cell_type": "code",
   "execution_count": 22,
   "id": "171ebc5f-ebab-42de-87e7-0531452c010f",
   "metadata": {},
   "outputs": [
    {
     "name": "stdin",
     "output_type": "stream",
     "text": [
      "Enter String :  p w s k i l l s\n"
     ]
    },
    {
     "name": "stdout",
     "output_type": "stream",
     "text": [
      "Result :  pwskills\n"
     ]
    }
   ],
   "source": [
    "# Answer 5\n",
    "\n",
    "a = input(\"Enter String : \")\n",
    "b=a.replace(\" \",\"\")\n",
    "print(\"Result : \",b)"
   ]
  },
  {
   "cell_type": "code",
   "execution_count": 23,
   "id": "a79465c5-0065-4217-a23e-8e923aa161f8",
   "metadata": {},
   "outputs": [
    {
     "name": "stdin",
     "output_type": "stream",
     "text": [
      "Enter String :  my name is sankalp sinha\n"
     ]
    },
    {
     "name": "stdout",
     "output_type": "stream",
     "text": [
      "Result : mynameissankalpsinha\n"
     ]
    }
   ],
   "source": [
    "a=input(\"Enter String : \")\n",
    "b=a.replace(\" \",\"\")\n",
    "print(\"Result :\",b)"
   ]
  },
  {
   "cell_type": "code",
   "execution_count": null,
   "id": "2b90717a-dc03-4971-aa5a-e6918539a1e9",
   "metadata": {},
   "outputs": [],
   "source": []
  }
 ],
 "metadata": {
  "kernelspec": {
   "display_name": "Python 3 (ipykernel)",
   "language": "python",
   "name": "python3"
  },
  "language_info": {
   "codemirror_mode": {
    "name": "ipython",
    "version": 3
   },
   "file_extension": ".py",
   "mimetype": "text/x-python",
   "name": "python",
   "nbconvert_exporter": "python",
   "pygments_lexer": "ipython3",
   "version": "3.10.8"
  }
 },
 "nbformat": 4,
 "nbformat_minor": 5
}
